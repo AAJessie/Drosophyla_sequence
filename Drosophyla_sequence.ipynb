{
  "nbformat": 4,
  "nbformat_minor": 0,
  "metadata": {
    "colab": {
      "provenance": [],
      "authorship_tag": "ABX9TyPn5bv6gG3QAmFjoeVT7KXT",
      "include_colab_link": true
    },
    "kernelspec": {
      "name": "python3",
      "display_name": "Python 3"
    },
    "language_info": {
      "name": "python"
    }
  },
  "cells": [
    {
      "cell_type": "markdown",
      "metadata": {
        "id": "view-in-github",
        "colab_type": "text"
      },
      "source": [
        "<a href=\"https://colab.research.google.com/github/AAJessie/Drosophyla_sequence/blob/main/Drosophyla_sequence.ipynb\" target=\"_parent\"><img src=\"https://colab.research.google.com/assets/colab-badge.svg\" alt=\"Open In Colab\"/></a>"
      ]
    },
    {
      "cell_type": "code",
      "execution_count": 4,
      "metadata": {
        "colab": {
          "base_uri": "https://localhost:8080/"
        },
        "id": "CP4rQwDMpb6x",
        "outputId": "b6a842ed-3e5b-4b55-df73-4045e86c62d5"
      },
      "outputs": [
        {
          "output_type": "stream",
          "name": "stdout",
          "text": [
            "Requirement already satisfied: biopython in /usr/local/lib/python3.11/dist-packages (1.85)\n",
            "Requirement already satisfied: numpy in /usr/local/lib/python3.11/dist-packages (from biopython) (2.0.2)\n",
            "Error: Drosophyla_sequence.fasta not found. Make sure the file is in the correct directory.\n"
          ]
        }
      ],
      "source": [
        "# Install biopython if not already installed\n",
        "!pip install biopython\n",
        "\n",
        "# Import the SeqIO module from Biopython\n",
        "from Bio import SeqIO\n",
        "\n",
        "# Parse the fasta file and print the sequences\n",
        "# Ensure that 'Drosophyla_sequence.fasta' is in the same directory as this notebook,\n",
        "# or provide the full path to the file.\n",
        "try:\n",
        "    for record in SeqIO.parse(\"Drosophyla_sequence.fasta\", \"fasta\"):\n",
        "        print(record.seq)  # Access the DNA sequence\n",
        "except FileNotFoundError:\n",
        "    print(\"Error: Drosophyla_sequence.fasta not found. Make sure the file is in the correct directory.\")"
      ]
    },
    {
      "cell_type": "code",
      "source": [
        "# Example of how to specify a different path (replace '/path/to/your/directory/' with the actual path)\n",
        "# with open(\"/path/to/your/directory/Drosophyla_sequence.txt\", \"r\") as file:\n",
        "#     Drosophyla_sequence = file.read().replace(\"\\n\", \"\").replace(\"\\r\", \"\")\n",
        "# print(Drosophyla_sequence)\n",
        "\n",
        "# Assuming the file is in the same directory as the notebook:\n",
        "with open(\"Drosophyla_sequence.txt\", \"r\") as file:\n",
        "    Drosophyla_sequence = file.read().replace(\"\\n\", \"\").replace(\"\\r\", \"\")\n",
        "print(Drosophyla_sequence)"
      ],
      "metadata": {
        "colab": {
          "base_uri": "https://localhost:8080/"
        },
        "id": "10v2T931p7ey",
        "outputId": "40864f3f-4e84-4d5c-dd40-7f2d28f3f565"
      },
      "execution_count": 6,
      "outputs": [
        {
          "output_type": "stream",
          "name": "stdout",
          "text": [
            "ggaacttcat taagaatttt aattcgagct gaattaggac accctggagc attaattggagatgaccaaa tttataatgt aattgtaaca gcacatgctt ttattataat tttttttatagtaataccaa ttataattgg aggatttgga aattgattag tacctttaat attaggagctcctgatatag cattcccacg aataaataat ataagatttt gattacttcc tcctgctctttctcttttat tagttagaag aatggttgaa aacggagctg gaacaggatg aacagtttatccacctcttt cagctggaat tgctcatgga ggagcttcag ttgatttagc aattttttcacttcatttag ctggaatctc atcaatttta ggagcagtaa attttattac aacagtaattaatatacgat cttctggaat taccttagat cgaatacctt tatttgtatg atctgtagttattacagctt tattattatt attatcttta cctgttttag ccggagctat tactatactactaactgatc gaaat\n"
          ]
        }
      ]
    },
    {
      "cell_type": "code",
      "source": [
        "codon_table = {\n",
        "    \"ATA\": \"I\", \"ATC\": \"I\", \"ATT\": \"I\", \"ATG\": \"M\",\n",
        "    \"ACA\": \"T\", \"ACC\": \"T\", \"ACG\": \"T\", \"ACT\": \"T\",\n",
        "    \"AAC\": \"N\", \"AAT\": \"N\", \"AAA\": \"K\", \"AAG\": \"K\",\n",
        "    \"AGC\": \"S\", \"AGT\": \"S\", \"AGA\": \"R\", \"AGG\": \"R\",\n",
        "    \"CTA\": \"L\", \"CTC\": \"L\", \"CTG\": \"L\", \"CTT\": \"L\",\n",
        "    \"CCA\": \"P\", \"CCC\": \"P\", \"CCG\": \"P\", \"CCT\": \"P\",\n",
        "    \"CAC\": \"H\", \"CAT\": \"H\", \"CAA\": \"Q\", \"CAG\": \"Q\",\n",
        "    \"CGA\": \"R\", \"CGC\": \"R\", \"CGG\": \"R\", \"CGT\": \"R\",\n",
        "    \"GTA\": \"V\", \"GTC\": \"V\", \"GTG\": \"V\", \"GTT\": \"V\",\n",
        "    \"GCA\": \"A\", \"GCC\": \"A\", \"GCG\": \"A\", \"GCT\": \"A\",\n",
        "    \"GAC\": \"D\", \"GAT\": \"D\", \"GAA\": \"E\", \"GAG\": \"E\",\n",
        "    \"GGA\": \"G\", \"GGC\": \"G\", \"GGG\": \"G\", \"GGT\": \"G\",\n",
        "    \"TCA\": \"S\", \"TCC\": \"S\", \"TCG\": \"S\", \"TCT\": \"S\",\n",
        "    \"TTC\": \"F\", \"TTT\": \"F\", \"TTA\": \"L\", \"TTG\": \"L\",\n",
        "    \"TAC\": \"Y\", \"TAT\": \"Y\", \"TAA\": \"_\", \"TAG\": \"_\",\n",
        "    \"TGC\": \"C\", \"TGT\": \"C\", \"TGA\": \"_\", \"TGG\": \"W\",\n",
        "}\n",
        "\n",
        "def translate_dna(dna_seq):\n",
        "    protein_seq = \"\".join([codon_table.get(dna_seq[i:i+3], \"?\") for i in range(0, len(dna_seq), 3)])\n",
        "    return protein_seq\n",
        "\n",
        "Drosophyla_sequence = \"ATGGCCATTGTAATGGGCCGCTGAAAGGGTGCCCGATAG\"\n",
        "print(translate_dna(Drosophyla_sequence))"
      ],
      "metadata": {
        "colab": {
          "base_uri": "https://localhost:8080/"
        },
        "id": "QqIvC5dwqoK4",
        "outputId": "6c434df1-7657-43e6-c8cc-53b35ab1092d"
      },
      "execution_count": 8,
      "outputs": [
        {
          "output_type": "stream",
          "name": "stdout",
          "text": [
            "MAIVMGR_KGAR_\n"
          ]
        }
      ]
    },
    {
      "cell_type": "code",
      "source": [
        "!pip install requests"
      ],
      "metadata": {
        "colab": {
          "base_uri": "https://localhost:8080/"
        },
        "id": "fyWTDpl4q5nm",
        "outputId": "04be46b0-a427-4805-ceda-572d2a9d3b2d"
      },
      "execution_count": 9,
      "outputs": [
        {
          "output_type": "stream",
          "name": "stdout",
          "text": [
            "Requirement already satisfied: requests in /usr/local/lib/python3.11/dist-packages (2.32.3)\n",
            "Requirement already satisfied: charset-normalizer<4,>=2 in /usr/local/lib/python3.11/dist-packages (from requests) (3.4.2)\n",
            "Requirement already satisfied: idna<4,>=2.5 in /usr/local/lib/python3.11/dist-packages (from requests) (3.10)\n",
            "Requirement already satisfied: urllib3<3,>=1.21.1 in /usr/local/lib/python3.11/dist-packages (from requests) (2.4.0)\n",
            "Requirement already satisfied: certifi>=2017.4.17 in /usr/local/lib/python3.11/dist-packages (from requests) (2025.4.26)\n"
          ]
        }
      ]
    },
    {
      "cell_type": "code",
      "source": [
        "import requests\n",
        "\n",
        "# Assume you have your translated protein sequence\n",
        "# We'll use the example translation from your notebook\n",
        "Drosophyla_protein_sequence = \"MAIVMGR*\" # Note: The sequence was 'ATGGCCATTGTAATGGGCCGCTGAAAGGGTGCCCGATAG' which translates to MAIVMGR*\n",
        "\n",
        "# In a real scenario, you would need an API endpoint\n",
        "# This is a placeholder and won't work for actual prediction\n",
        "api_url = \"https://api.example.com/predict_structure\" # Replace with a real API endpoint if available\n",
        "\n",
        "# Data to send in the request (e.g., the protein sequence)\n",
        "payload = {\"sequence\": Drosophyla_protein_sequence}\n",
        "\n",
        "try:\n",
        "    # Send a POST request to the API\n",
        "    response = requests.post(api_url, json=payload)\n",
        "\n",
        "    # Check if the request was successful\n",
        "    response.raise_for_status()\n",
        "\n",
        "    # Parse the JSON response\n",
        "    prediction_data = response.json()\n",
        "\n",
        "    # Process the prediction data (e.g., get a link to the model file)\n",
        "    print(\"Structure prediction requested. Check the API response for results.\")\n",
        "    print(prediction_data)\n",
        "\n",
        "except requests.exceptions.RequestException as e:\n",
        "    print(f\"Error interacting with prediction API: {e}\")\n",
        "except Exception as e:\n",
        "    print(f\"An unexpected error occurred: {e}\")\n",
        "\n",
        "# Disclaimer: The above code is a conceptual example.\n",
        "# You need to find a publicly available API for protein structure prediction\n",
        "# that allows programmatic access and follow their documentation.\n",
        "# As of my last update, readily available public APIs for on-demand AlphaFold prediction\n",
        "# of arbitrary sequences are limited."
      ],
      "metadata": {
        "colab": {
          "base_uri": "https://localhost:8080/"
        },
        "id": "eFNCNzegvLW6",
        "outputId": "bff90870-8e94-4f34-c3c4-772acfa9ad88"
      },
      "execution_count": 10,
      "outputs": [
        {
          "output_type": "stream",
          "name": "stdout",
          "text": [
            "Error interacting with prediction API: HTTPSConnectionPool(host='api.example.com', port=443): Max retries exceeded with url: /predict_structure (Caused by NameResolutionError(\"<urllib3.connection.HTTPSConnection object at 0x7d9898e8d510>: Failed to resolve 'api.example.com' ([Errno -2] Name or service not known)\"))\n"
          ]
        }
      ]
    },
    {
      "cell_type": "code",
      "source": [
        "# Example using biopython to load and analyze a structure (if you had one)\n",
        "from Bio.PDB import PDBParser, Selection\n",
        "from Bio.PDB.vectors import calc_dihedral\n",
        "\n",
        "# This part requires a PDB file (protein data bank file)\n",
        "# If you get a PDB file from a prediction service, you could analyze it here\n",
        "# parser = PDBParser()\n",
        "# try:\n",
        "#     structure = parser.get_structure(\"my_protein\", \"predicted_model.pdb\")\n",
        "#     # You could then analyze the structure using Biopython's PDB modules\n",
        "#     # For example, iterating through residues, atoms, calculating angles, etc.\n",
        "# except FileNotFoundError:\n",
        "#     print(\"Predicted model file not found.\")"
      ],
      "metadata": {
        "id": "P8R_W6QnvPzT"
      },
      "execution_count": 11,
      "outputs": []
    },
    {
      "cell_type": "code",
      "source": [
        "# This is purely conceptual and requires AlphaFold to be installed and configured\n",
        "# import os\n",
        "# import subprocess\n",
        "\n",
        "# protein_sequence = \"YOUR_PROTEIN_SEQUENCE\"\n",
        "# output_dir = \"/path/to/your/output/directory\"\n",
        "\n",
        "# # Command to run AlphaFold (this command will vary based on your installation)\n",
        "# # This is a placeholder example\n",
        "# alphafold_command = [\n",
        "#     \"run_alphafold.sh\",  # Replace with the actual script\n",
        "#     \"--fasta_paths=/path/to/your/input.fasta\", # You'd need to write your sequence to a fasta file first\n",
        "#     f\"--output_dir={output_dir}\",\n",
        "#     \"--model_preset=monomer\",\n",
        "#     # Add other necessary AlphaFold arguments\n",
        "# ]\n",
        "\n",
        "# try:\n",
        "#     # Execute the command\n",
        "#     subprocess.run(alphafold_command, check=True, capture_output=True, text=True)\n",
        "#     print(f\"AlphaFold prediction started. Results will be in {output_dir}\")\n",
        "# except subprocess.CalledProcessError as e:\n",
        "#     print(f\"Error running AlphaFold: {e}\")\n",
        "#     print(f\"Stdout: {e.stdout}\")\n",
        "#     print(f\"Stderr: {e.stderr}\")\n",
        "# except FileNotFoundError:\n",
        "#     print(\"AlphaFold command not found. Is AlphaFold installed and in your PATH?\")"
      ],
      "metadata": {
        "id": "dvwhXSFzvgWN"
      },
      "execution_count": 12,
      "outputs": []
    }
  ]
}
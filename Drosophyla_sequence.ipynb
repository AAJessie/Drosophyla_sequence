{
  "nbformat": 4,
  "nbformat_minor": 0,
  "metadata": {
    "colab": {
      "provenance": [],
      "authorship_tag": "ABX9TyOTO++PTsqAFknhn2+6oO0d",
      "include_colab_link": true
    },
    "kernelspec": {
      "name": "python3",
      "display_name": "Python 3"
    },
    "language_info": {
      "name": "python"
    }
  },
  "cells": [
    {
      "cell_type": "markdown",
      "metadata": {
        "id": "view-in-github",
        "colab_type": "text"
      },
      "source": [
        "<a href=\"https://colab.research.google.com/github/AAJessie/Drosophyla_sequence/blob/main/Drosophyla_sequence.ipynb\" target=\"_parent\"><img src=\"https://colab.research.google.com/assets/colab-badge.svg\" alt=\"Open In Colab\"/></a>"
      ]
    },
    {
      "cell_type": "code",
      "execution_count": null,
      "metadata": {
        "colab": {
          "base_uri": "https://localhost:8080/"
        },
        "id": "CP4rQwDMpb6x",
        "outputId": "b6a842ed-3e5b-4b55-df73-4045e86c62d5"
      },
      "outputs": [
        {
          "output_type": "stream",
          "name": "stdout",
          "text": [
            "Requirement already satisfied: biopython in /usr/local/lib/python3.11/dist-packages (1.85)\n",
            "Requirement already satisfied: numpy in /usr/local/lib/python3.11/dist-packages (from biopython) (2.0.2)\n",
            "Error: Drosophyla_sequence.fasta not found. Make sure the file is in the correct directory.\n"
          ]
        }
      ],
      "source": [
        "# Install biopython if not already installed\n",
        "!pip install biopython\n",
        "\n",
        "# Import the SeqIO module from Biopython\n",
        "from Bio import SeqIO\n",
        "\n",
        "# Parse the fasta file and print the sequences\n",
        "# Ensure that 'Drosophyla_sequence.fasta' is in the same directory as this notebook,\n",
        "# or provide the full path to the file.\n",
        "try:\n",
        "    for record in SeqIO.parse(\"Drosophyla_sequence.fasta\", \"fasta\"):\n",
        "        print(record.seq)  # Access the DNA sequence\n",
        "except FileNotFoundError:\n",
        "    print(\"Error: Drosophyla_sequence.fasta not found. Make sure the file is in the correct directory.\")"
      ]
    },
    {
      "cell_type": "code",
      "source": [
        "# Example of how to specify a different path (replace '/path/to/your/directory/' with the actual path)\n",
        "# with open(\"/path/to/your/directory/Drosophyla_sequence.txt\", \"r\") as file:\n",
        "#     Drosophyla_sequence = file.read().replace(\"\\n\", \"\").replace(\"\\r\", \"\")\n",
        "# print(Drosophyla_sequence)\n",
        "\n",
        "# Assuming the file is in the same directory as the notebook:\n",
        "with open(\"Drosophyla_sequence.txt\", \"r\") as file:\n",
        "    Drosophyla_sequence = file.read().replace(\"\\n\", \"\").replace(\"\\r\", \"\")\n",
        "print(Drosophyla_sequence)"
      ],
      "metadata": {
        "colab": {
          "base_uri": "https://localhost:8080/"
        },
        "id": "10v2T931p7ey",
        "outputId": "40864f3f-4e84-4d5c-dd40-7f2d28f3f565"
      },
      "execution_count": null,
      "outputs": [
        {
          "output_type": "stream",
          "name": "stdout",
          "text": [
            "ggaacttcat taagaatttt aattcgagct gaattaggac accctggagc attaattggagatgaccaaa tttataatgt aattgtaaca gcacatgctt ttattataat tttttttatagtaataccaa ttataattgg aggatttgga aattgattag tacctttaat attaggagctcctgatatag cattcccacg aataaataat ataagatttt gattacttcc tcctgctctttctcttttat tagttagaag aatggttgaa aacggagctg gaacaggatg aacagtttatccacctcttt cagctggaat tgctcatgga ggagcttcag ttgatttagc aattttttcacttcatttag ctggaatctc atcaatttta ggagcagtaa attttattac aacagtaattaatatacgat cttctggaat taccttagat cgaatacctt tatttgtatg atctgtagttattacagctt tattattatt attatcttta cctgttttag ccggagctat tactatactactaactgatc gaaat\n"
          ]
        }
      ]
    },
    {
      "cell_type": "code",
      "source": [
        "codon_table = {\n",
        "    \"ATA\": \"I\", \"ATC\": \"I\", \"ATT\": \"I\", \"ATG\": \"M\",\n",
        "    \"ACA\": \"T\", \"ACC\": \"T\", \"ACG\": \"T\", \"ACT\": \"T\",\n",
        "    \"AAC\": \"N\", \"AAT\": \"N\", \"AAA\": \"K\", \"AAG\": \"K\",\n",
        "    \"AGC\": \"S\", \"AGT\": \"S\", \"AGA\": \"R\", \"AGG\": \"R\",\n",
        "    \"CTA\": \"L\", \"CTC\": \"L\", \"CTG\": \"L\", \"CTT\": \"L\",\n",
        "    \"CCA\": \"P\", \"CCC\": \"P\", \"CCG\": \"P\", \"CCT\": \"P\",\n",
        "    \"CAC\": \"H\", \"CAT\": \"H\", \"CAA\": \"Q\", \"CAG\": \"Q\",\n",
        "    \"CGA\": \"R\", \"CGC\": \"R\", \"CGG\": \"R\", \"CGT\": \"R\",\n",
        "    \"GTA\": \"V\", \"GTC\": \"V\", \"GTG\": \"V\", \"GTT\": \"V\",\n",
        "    \"GCA\": \"A\", \"GCC\": \"A\", \"GCG\": \"A\", \"GCT\": \"A\",\n",
        "    \"GAC\": \"D\", \"GAT\": \"D\", \"GAA\": \"E\", \"GAG\": \"E\",\n",
        "    \"GGA\": \"G\", \"GGC\": \"G\", \"GGG\": \"G\", \"GGT\": \"G\",\n",
        "    \"TCA\": \"S\", \"TCC\": \"S\", \"TCG\": \"S\", \"TCT\": \"S\",\n",
        "    \"TTC\": \"F\", \"TTT\": \"F\", \"TTA\": \"L\", \"TTG\": \"L\",\n",
        "    \"TAC\": \"Y\", \"TAT\": \"Y\", \"TAA\": \"_\", \"TAG\": \"_\",\n",
        "    \"TGC\": \"C\", \"TGT\": \"C\", \"TGA\": \"_\", \"TGG\": \"W\",\n",
        "}\n",
        "\n",
        "def translate_dna(dna_seq):\n",
        "    protein_seq = \"\".join([codon_table.get(dna_seq[i:i+3], \"?\") for i in range(0, len(dna_seq), 3)])\n",
        "    return protein_seq\n",
        "\n",
        "Drosophyla_sequence = \"ATGGCCATTGTAATGGGCCGCTGAAAGGGTGCCCGATAG\"\n",
        "print(translate_dna(Drosophyla_sequence))"
      ],
      "metadata": {
        "colab": {
          "base_uri": "https://localhost:8080/"
        },
        "id": "QqIvC5dwqoK4",
        "outputId": "6c434df1-7657-43e6-c8cc-53b35ab1092d"
      },
      "execution_count": null,
      "outputs": [
        {
          "output_type": "stream",
          "name": "stdout",
          "text": [
            "MAIVMGR_KGAR_\n"
          ]
        }
      ]
    }
  ]
}